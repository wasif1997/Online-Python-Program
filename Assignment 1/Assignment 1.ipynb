{
 "cells": [
  {
   "cell_type": "code",
   "execution_count": 1,
   "id": "344f4706",
   "metadata": {},
   "outputs": [
    {
     "name": "stdout",
     "output_type": "stream",
     "text": [
      " Twinkle, twinkle, little star, \n",
      "\tHow I wonder what you are! \n",
      "\t\tUp above the world so high, \n",
      "\t\tLike a diamoind in the sky.\n",
      " Twinkle, twinkle, little star, \n",
      "\tHow I wonder what you are!\n"
     ]
    }
   ],
   "source": [
    "print(\" Twinkle, twinkle, little star, \\n\\tHow I wonder what you are! \\n\\t\\tUp above the world so high, \\n\\t\\tLike a diamoind in the sky.\\n Twinkle, twinkle, little star, \\n\\tHow I wonder what you are!\");"
   ]
  },
  {
   "cell_type": "code",
   "execution_count": 2,
   "id": "4f07775d",
   "metadata": {},
   "outputs": [
    {
     "name": "stdout",
     "output_type": "stream",
     "text": [
      "Python Version\n",
      "3.9.7 (default, Sep 16 2021, 16:59:28) [MSC v.1916 64 bit (AMD64)]\n"
     ]
    }
   ],
   "source": [
    "import sys;\n",
    "print(\"Python Version\");\n",
    "print(sys.version);"
   ]
  },
  {
   "cell_type": "code",
   "execution_count": 3,
   "id": "3d124f5d",
   "metadata": {},
   "outputs": [
    {
     "name": "stdout",
     "output_type": "stream",
     "text": [
      "Current Date and Time : \n",
      "2022-01-01 18:06:23.475305\n"
     ]
    }
   ],
   "source": [
    "import datetime;\n",
    "now=datetime.datetime.now();\n",
    "print(\"Current Date and Time : \");\n",
    "print(str(now));"
   ]
  },
  {
   "cell_type": "code",
   "execution_count": 4,
   "id": "cdf8206b",
   "metadata": {},
   "outputs": [
    {
     "name": "stdout",
     "output_type": "stream",
     "text": [
      "Input the radius of the circle : 2\n",
      "The area of the circle with radius 2.0 is: 12.566370614359172\n"
     ]
    }
   ],
   "source": [
    "from math import pi;\n",
    "r=float(input(\"Input the radius of the circle : \"));\n",
    "print(\"The area of the circle with radius \"+str(r)+ \" is: \" +str(pi*r**2));"
   ]
  },
  {
   "cell_type": "code",
   "execution_count": 5,
   "id": "89539160",
   "metadata": {},
   "outputs": [
    {
     "name": "stdout",
     "output_type": "stream",
     "text": [
      "Input your first name: Wasif\n",
      "Input your last name: Khan\n",
      "Khan   Wasif\n"
     ]
    }
   ],
   "source": [
    "fname=input(\"Input your first name: \");\n",
    "lname=input(\"Input your last name: \");\n",
    "print(\"Khan  \" \" Wasif\");"
   ]
  },
  {
   "cell_type": "code",
   "execution_count": 6,
   "id": "6a2a710d",
   "metadata": {},
   "outputs": [
    {
     "name": "stdout",
     "output_type": "stream",
     "text": [
      "Enter first number: 5\n",
      "Enter second number: 4\n",
      "The sum of two numbers is: 9.0\n"
     ]
    }
   ],
   "source": [
    "num1=input(\"Enter first number: \");\n",
    "num2=input(\"Enter second number: \");\n",
    "sum=float(num1)+float(num2);\n",
    "print(\"The sum of two numbers is: \" +str(sum));"
   ]
  }
 ],
 "metadata": {
  "kernelspec": {
   "display_name": "Python 3 (ipykernel)",
   "language": "python",
   "name": "python3"
  },
  "language_info": {
   "codemirror_mode": {
    "name": "ipython",
    "version": 3
   },
   "file_extension": ".py",
   "mimetype": "text/x-python",
   "name": "python",
   "nbconvert_exporter": "python",
   "pygments_lexer": "ipython3",
   "version": "3.9.7"
  }
 },
 "nbformat": 4,
 "nbformat_minor": 5
}
